{
 "cells": [
  {
   "cell_type": "code",
   "execution_count": null,
   "metadata": {},
   "outputs": [],
   "source": [
    "import laspy\n",
    "import numpy as np\n",
    "import open3d as o3d\n"
   ]
  },
  {
   "cell_type": "code",
   "execution_count": null,
   "metadata": {},
   "outputs": [],
   "source": [
    "inFile1 = laspy.read(\"/home/sdi-2023-01/Bureau/epfl/Data_pcd/85268 - M230905_223260_223320_LEFT.laz\")\n",
    "inFile2 = laspy.read(\"/home/sdi-2023-01/Bureau/epfl/Data_pcd/85268 - M230905_223260_223320_RIGHT.laz\")\n"
   ]
  },
  {
   "cell_type": "code",
   "execution_count": null,
   "metadata": {},
   "outputs": [],
   "source": [
    "coords1= np.vstack((inFile1.x, inFile1.y, inFile1.z)).transpose()\n",
    "time1 = np.vstack((inFile1.gps_time)).transpose()\n",
    "\n",
    "coords2= np.vstack((inFile2.x, inFile2.y, inFile2.z)).transpose()\n",
    "time2 = np.vstack((inFile2.gps_time)).transpose()\n"
   ]
  },
  {
   "cell_type": "code",
   "execution_count": null,
   "metadata": {},
   "outputs": [],
   "source": [
    "#ajout de 1 colonne de 0 au debut et 3 colonnes de 0 a la fin\n",
    "new_coords1 = np.hstack((np.zeros((coords1.shape[0],1)), coords1))\n",
    "new_coords1 = np.hstack((new_coords1, np.zeros((coords1.shape[0],3)))  )\n",
    "\n",
    "new_coords2 = np.hstack((np.zeros((coords2.shape[0],1)), coords2))\n",
    "new_coords2 = np.hstack((new_coords2, np.zeros((coords2.shape[0],3))))\n",
    "\n",
    "\n",
    "#mettre la colonne 0 = temps\n",
    "new_coords1[:,0] = time1\n",
    "new_coords2[:,0] = time2"
   ]
  }
 ],
 "metadata": {
  "language_info": {
   "name": "python"
  }
 },
 "nbformat": 4,
 "nbformat_minor": 2
}
